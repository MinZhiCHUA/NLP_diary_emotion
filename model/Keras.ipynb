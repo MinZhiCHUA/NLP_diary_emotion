{
 "cells": [
  {
   "cell_type": "code",
   "execution_count": 1,
   "metadata": {},
   "outputs": [],
   "source": [
    "import pandas as pd"
   ]
  },
  {
   "cell_type": "code",
   "execution_count": 2,
   "metadata": {},
   "outputs": [],
   "source": [
    "df = pd.read_csv(\"df_kaggle_test.csv\")"
   ]
  },
  {
   "cell_type": "code",
   "execution_count": 3,
   "metadata": {},
   "outputs": [
    {
     "data": {
      "text/html": [
       "<div>\n",
       "<style scoped>\n",
       "    .dataframe tbody tr th:only-of-type {\n",
       "        vertical-align: middle;\n",
       "    }\n",
       "\n",
       "    .dataframe tbody tr th {\n",
       "        vertical-align: top;\n",
       "    }\n",
       "\n",
       "    .dataframe thead th {\n",
       "        text-align: right;\n",
       "    }\n",
       "</style>\n",
       "<table border=\"1\" class=\"dataframe\">\n",
       "  <thead>\n",
       "    <tr style=\"text-align: right;\">\n",
       "      <th></th>\n",
       "      <th>Text</th>\n",
       "      <th>Emotion</th>\n",
       "    </tr>\n",
       "  </thead>\n",
       "  <tbody>\n",
       "    <tr>\n",
       "      <th>0</th>\n",
       "      <td>There was amusement in Jake 's voice , but the...</td>\n",
       "      <td>happy</td>\n",
       "    </tr>\n",
       "    <tr>\n",
       "      <th>1</th>\n",
       "      <td>i feel it is too dangerous to invest in such m...</td>\n",
       "      <td>anger</td>\n",
       "    </tr>\n",
       "    <tr>\n",
       "      <th>2</th>\n",
       "      <td>i feel that i should write the company and tel...</td>\n",
       "      <td>sadness</td>\n",
       "    </tr>\n",
       "    <tr>\n",
       "      <th>3</th>\n",
       "      <td>i also feel ashamed at the hurt caused and ash...</td>\n",
       "      <td>sadness</td>\n",
       "    </tr>\n",
       "    <tr>\n",
       "      <th>4</th>\n",
       "      <td>i just yearned for that homey feeling where yo...</td>\n",
       "      <td>love</td>\n",
       "    </tr>\n",
       "  </tbody>\n",
       "</table>\n",
       "</div>"
      ],
      "text/plain": [
       "                                                Text  Emotion\n",
       "0  There was amusement in Jake 's voice , but the...    happy\n",
       "1  i feel it is too dangerous to invest in such m...    anger\n",
       "2  i feel that i should write the company and tel...  sadness\n",
       "3  i also feel ashamed at the hurt caused and ash...  sadness\n",
       "4  i just yearned for that homey feeling where yo...     love"
      ]
     },
     "execution_count": 3,
     "metadata": {},
     "output_type": "execute_result"
    }
   ],
   "source": [
    "df.head()"
   ]
  },
  {
   "cell_type": "code",
   "execution_count": 4,
   "metadata": {},
   "outputs": [
    {
     "data": {
      "text/plain": [
       "(4292, 2)"
      ]
     },
     "execution_count": 4,
     "metadata": {},
     "output_type": "execute_result"
    }
   ],
   "source": [
    "df.shape"
   ]
  },
  {
   "cell_type": "code",
   "execution_count": 5,
   "metadata": {},
   "outputs": [
    {
     "data": {
      "text/html": [
       "<div>\n",
       "<style scoped>\n",
       "    .dataframe tbody tr th:only-of-type {\n",
       "        vertical-align: middle;\n",
       "    }\n",
       "\n",
       "    .dataframe tbody tr th {\n",
       "        vertical-align: top;\n",
       "    }\n",
       "\n",
       "    .dataframe thead th {\n",
       "        text-align: right;\n",
       "    }\n",
       "</style>\n",
       "<table border=\"1\" class=\"dataframe\">\n",
       "  <thead>\n",
       "    <tr style=\"text-align: right;\">\n",
       "      <th></th>\n",
       "      <th>Text</th>\n",
       "      <th>Emotion</th>\n",
       "    </tr>\n",
       "  </thead>\n",
       "  <tbody>\n",
       "    <tr>\n",
       "      <th>0</th>\n",
       "      <td>There was amusement in Jake 's voice , but the...</td>\n",
       "      <td>happy</td>\n",
       "    </tr>\n",
       "    <tr>\n",
       "      <th>1</th>\n",
       "      <td>i feel it is too dangerous to invest in such m...</td>\n",
       "      <td>anger</td>\n",
       "    </tr>\n",
       "    <tr>\n",
       "      <th>2</th>\n",
       "      <td>i feel that i should write the company and tel...</td>\n",
       "      <td>sadness</td>\n",
       "    </tr>\n",
       "    <tr>\n",
       "      <th>3</th>\n",
       "      <td>i also feel ashamed at the hurt caused and ash...</td>\n",
       "      <td>sadness</td>\n",
       "    </tr>\n",
       "    <tr>\n",
       "      <th>4</th>\n",
       "      <td>i just yearned for that homey feeling where yo...</td>\n",
       "      <td>love</td>\n",
       "    </tr>\n",
       "  </tbody>\n",
       "</table>\n",
       "</div>"
      ],
      "text/plain": [
       "                                                Text  Emotion\n",
       "0  There was amusement in Jake 's voice , but the...    happy\n",
       "1  i feel it is too dangerous to invest in such m...    anger\n",
       "2  i feel that i should write the company and tel...  sadness\n",
       "3  i also feel ashamed at the hurt caused and ash...  sadness\n",
       "4  i just yearned for that homey feeling where yo...     love"
      ]
     },
     "execution_count": 5,
     "metadata": {},
     "output_type": "execute_result"
    }
   ],
   "source": [
    "df.head()"
   ]
  },
  {
   "cell_type": "code",
   "execution_count": 35,
   "metadata": {},
   "outputs": [
    {
     "name": "stdout",
     "output_type": "stream",
     "text": [
      "              precision    recall  f1-score   support\n",
      "\n",
      "           0       0.56      0.79      0.66      2247\n",
      "           1       0.51      0.65      0.57      2126\n",
      "           2       0.47      0.28      0.35       997\n",
      "           3       0.45      0.20      0.28       877\n",
      "           4       0.44      0.13      0.20       549\n",
      "           5       0.41      0.12      0.19       286\n",
      "\n",
      "    accuracy                           0.52      7082\n",
      "   macro avg       0.47      0.36      0.37      7082\n",
      "weighted avg       0.50      0.52      0.48      7082\n",
      "\n"
     ]
    },
    {
     "name": "stderr",
     "output_type": "stream",
     "text": [
      "/home/florian/anaconda3/lib/python3.9/site-packages/sklearn/linear_model/_logistic.py:762: ConvergenceWarning: lbfgs failed to converge (status=1):\n",
      "STOP: TOTAL NO. of ITERATIONS REACHED LIMIT.\n",
      "\n",
      "Increase the number of iterations (max_iter) or scale the data as shown in:\n",
      "    https://scikit-learn.org/stable/modules/preprocessing.html\n",
      "Please also refer to the documentation for alternative solver options:\n",
      "    https://scikit-learn.org/stable/modules/linear_model.html#logistic-regression\n",
      "  n_iter_i = _check_optimize_result(\n"
     ]
    }
   ],
   "source": [
    "from sklearn.linear_model import LogisticRegression\n",
    "from sklearn.model_selection import train_test_split\n",
    "from sklearn.metrics import classification_report\n",
    "y=df.pop(\"target\")\n",
    "X=df\n",
    "\n",
    "y.replace([\"happy\",\"sadness\",\"anger\",\"fear\",\"love\",\"surprise\"],[0,1,2,3,4,5],inplace=True)\n",
    "y.replace([\"happy\",\"sadness\",\"anger\",\"fear\",\"love\",\"surprise\"],[0,1,2,3,4,5],inplace=True)\n",
    "\n",
    "X_train, X_test, y_train, y_test = train_test_split(X, y, test_size=0.33, random_state=42)\n",
    "lr = LogisticRegression()\n",
    "model = lr.fit(X_train,y_train)\n",
    "\n",
    "y_pred = model.predict(X_test)\n",
    "print(classification_report(y_test,y_pred))\n",
    "\n"
   ]
  },
  {
   "cell_type": "markdown",
   "metadata": {},
   "source": [
    "# test model rnn"
   ]
  },
  {
   "cell_type": "code",
   "execution_count": 5,
   "metadata": {},
   "outputs": [],
   "source": [
    "y = df.pop(\"Emotion\")\n",
    "X=df"
   ]
  },
  {
   "cell_type": "markdown",
   "metadata": {},
   "source": [
    "prepocessing text hero"
   ]
  },
  {
   "cell_type": "code",
   "execution_count": 6,
   "metadata": {},
   "outputs": [],
   "source": [
    "import texthero as hero\n",
    "\n",
    "df['clean_text'] = hero.clean(df['Text'])\n",
    "\n",
    "default_stopwords = hero.stopwords.DEFAULT\n",
    "default_stopwords.remove(\"not\")\n",
    "custom_stopwords = default_stopwords.union(set([\"feel\",\"feeling\",\"like\",\"im\"]))\n",
    "\n",
    "df['clean_text_stop'] = hero.remove_stopwords(df['clean_text'], custom_stopwords)"
   ]
  },
  {
   "cell_type": "code",
   "execution_count": 7,
   "metadata": {},
   "outputs": [
    {
     "data": {
      "text/plain": [
       "121"
      ]
     },
     "execution_count": 7,
     "metadata": {},
     "output_type": "execute_result"
    }
   ],
   "source": [
    "# on garde les not\n",
    "sum([\"not\" in x for x in df[\"clean_text_stop\"]])"
   ]
  },
  {
   "cell_type": "markdown",
   "metadata": {},
   "source": [
    "embeding"
   ]
  },
  {
   "cell_type": "code",
   "execution_count": 9,
   "metadata": {},
   "outputs": [],
   "source": [
    "from keras.preprocessing.text import Tokenizer\n",
    "vocab_size = 20000\n",
    "oov_token = \"<OOV>\"\n",
    "tokenizer = Tokenizer(num_words = vocab_size, oov_token=oov_token)\n",
    "\n",
    "X = df[\"clean_text_stop\"]\n",
    "\n",
    "tokenizer.fit_on_texts(X)\n",
    "word_index = tokenizer.word_index"
   ]
  },
  {
   "cell_type": "code",
   "execution_count": 10,
   "metadata": {},
   "outputs": [
    {
     "name": "stdout",
     "output_type": "stream",
     "text": [
      "7884\n"
     ]
    },
    {
     "data": {
      "text/plain": [
       "32"
      ]
     },
     "execution_count": 10,
     "metadata": {},
     "output_type": "execute_result"
    }
   ],
   "source": [
    "print(len(tokenizer.word_index))\n",
    "max([len(t.split()) for t in X])"
   ]
  },
  {
   "cell_type": "code",
   "execution_count": 11,
   "metadata": {},
   "outputs": [],
   "source": [
    "# transforme le texte en une liste de nombres (via le dico)\n",
    "X_sequences = tokenizer.texts_to_sequences(X)\n",
    "\n",
    "\n",
    "# padding : toutes les lignes doivent faire 100\n",
    "max_length = 32\n",
    "padding_type='post'\n",
    "truncation_type='post'\n",
    "\n",
    "from keras.preprocessing.sequence import pad_sequences\n",
    "\n",
    "X_padded = pad_sequences(X_sequences,maxlen=max_length,padding=padding_type, truncating=truncation_type)"
   ]
  },
  {
   "cell_type": "code",
   "execution_count": 12,
   "metadata": {},
   "outputs": [
    {
     "name": "stdout",
     "output_type": "stream",
     "text": [
      "Found 400000 word vectors.\n"
     ]
    }
   ],
   "source": [
    "# on charge les poids des mots via le ficher glove\n",
    "import numpy as np\n",
    "embeddings_index = {}\n",
    "f = open('glove/glove.6B.100d.txt')\n",
    "for line in f:\n",
    "    values = line.split()\n",
    "    word = values[0]\n",
    "    coefs = np.asarray(values[1:], dtype='float32')\n",
    "    embeddings_index[word] = coefs\n",
    "f.close()\n",
    "emb_length = 100\n",
    "print('Found %s word vectors.' % len(embeddings_index))"
   ]
  },
  {
   "cell_type": "code",
   "execution_count": 13,
   "metadata": {},
   "outputs": [],
   "source": [
    "# embeding matrix : les poids du modele glove pour les mots de notre texte\n",
    "embedding_matrix = np.zeros((len(word_index) + 1,emb_length ))\n",
    "for word, i in word_index.items():\n",
    "    embedding_vector = embeddings_index.get(word)\n",
    "    if embedding_vector is not None:\n",
    "        # words not found in embedding index will be all-zeros.\n",
    "        embedding_matrix[i] = embedding_vector"
   ]
  },
  {
   "cell_type": "code",
   "execution_count": 14,
   "metadata": {},
   "outputs": [],
   "source": [
    "from keras.utils import np_utils\n",
    "y.replace([\"happy\",\"sadness\",\"anger\",\"fear\",\"love\",\"surprise\"],[0,1,2,3,4,5],inplace=True)\n",
    "\n",
    "dummy_y = np_utils.to_categorical( y)\n"
   ]
  },
  {
   "cell_type": "code",
   "execution_count": 40,
   "metadata": {},
   "outputs": [],
   "source": [
    "from tensorflow.keras.layers import Embedding, LSTM, Dense, Bidirectional, Dropout\n",
    "from tensorflow.keras.models import Sequential\n",
    "\n",
    "embedding_layer = Embedding(input_dim=len(word_index) + 1,\n",
    "                            output_dim=emb_length,\n",
    "                            weights=[embedding_matrix],\n",
    "                            input_length=max_length,\n",
    "                            trainable=False)\n",
    "\n",
    "\n",
    "model = Sequential([\n",
    "    embedding_layer,\n",
    "    LSTM(100,dropout=0.2, recurrent_dropout=0.2,return_sequences=True),\n",
    "    LSTM(100,dropout=0.2, recurrent_dropout=0.2),\n",
    "    Dropout(0.2),\n",
    "    Dense(128, activation='relu'),\n",
    "   Dense(6, activation='softmax')\n",
    "])\n"
   ]
  },
  {
   "cell_type": "markdown",
   "metadata": {},
   "source": [
    "des pistes :\n",
    "- glove 100 -> ca améliore bien\n",
    "- plus de neurones sur le lstm : 100->amelioration, tjr du mal avec surprise\n",
    "- plus de couches\n",
    "- 2 lstm\n",
    "- est ce que le reseau apprend ?"
   ]
  },
  {
   "cell_type": "code",
   "execution_count": 41,
   "metadata": {},
   "outputs": [],
   "source": [
    "from sklearn.model_selection import train_test_split\n",
    "\n",
    "X_train, X_test, y_train, y_test = train_test_split(X_padded, dummy_y, test_size=0.2, random_state=42)\n",
    "\n",
    "model.compile(loss='CategoricalCrossentropy',optimizer='adam',metrics=['accuracy'])"
   ]
  },
  {
   "cell_type": "code",
   "execution_count": 64,
   "metadata": {},
   "outputs": [
    {
     "name": "stdout",
     "output_type": "stream",
     "text": [
      "The tensorboard extension is already loaded. To reload it, use:\n",
      "  %reload_ext tensorboard\n",
      "Epoch 1/100\n",
      "108/108 [==============================] - 9s 78ms/step - loss: 0.4308 - accuracy: 0.8608 - val_loss: 0.6318 - val_accuracy: 0.8009\n",
      "Epoch 2/100\n",
      "108/108 [==============================] - 8s 75ms/step - loss: 0.3944 - accuracy: 0.8678 - val_loss: 0.6795 - val_accuracy: 0.7811\n",
      "Epoch 3/100\n",
      "108/108 [==============================] - 7s 65ms/step - loss: 0.3857 - accuracy: 0.8730 - val_loss: 0.6312 - val_accuracy: 0.8114\n",
      "Epoch 4/100\n",
      "108/108 [==============================] - 7s 66ms/step - loss: 0.3679 - accuracy: 0.8765 - val_loss: 0.6323 - val_accuracy: 0.8021\n",
      "Epoch 5/100\n",
      "108/108 [==============================] - 7s 67ms/step - loss: 0.3490 - accuracy: 0.8832 - val_loss: 0.6476 - val_accuracy: 0.7939\n",
      "Epoch 6/100\n",
      "108/108 [==============================] - 7s 67ms/step - loss: 0.3308 - accuracy: 0.8954 - val_loss: 0.6291 - val_accuracy: 0.8009\n",
      "Epoch 7/100\n",
      "108/108 [==============================] - 7s 66ms/step - loss: 0.3236 - accuracy: 0.8896 - val_loss: 0.6613 - val_accuracy: 0.8161\n",
      "Epoch 8/100\n",
      "108/108 [==============================] - 7s 66ms/step - loss: 0.2818 - accuracy: 0.9085 - val_loss: 0.6186 - val_accuracy: 0.8033\n",
      "Epoch 9/100\n",
      "108/108 [==============================] - 7s 67ms/step - loss: 0.2842 - accuracy: 0.9056 - val_loss: 0.6887 - val_accuracy: 0.7963\n",
      "Epoch 10/100\n",
      "108/108 [==============================] - 7s 66ms/step - loss: 0.2711 - accuracy: 0.9050 - val_loss: 0.6448 - val_accuracy: 0.8114\n",
      "Epoch 11/100\n",
      "108/108 [==============================] - 7s 66ms/step - loss: 0.2742 - accuracy: 0.9094 - val_loss: 0.6374 - val_accuracy: 0.8021\n",
      "Epoch 12/100\n",
      "108/108 [==============================] - 7s 67ms/step - loss: 0.2519 - accuracy: 0.9214 - val_loss: 0.6416 - val_accuracy: 0.8324\n",
      "Epoch 13/100\n",
      "108/108 [==============================] - 7s 66ms/step - loss: 0.2457 - accuracy: 0.9219 - val_loss: 0.5762 - val_accuracy: 0.8417\n",
      "Epoch 14/100\n",
      "108/108 [==============================] - 7s 68ms/step - loss: 0.2266 - accuracy: 0.9243 - val_loss: 0.7142 - val_accuracy: 0.8079\n",
      "Epoch 15/100\n",
      "108/108 [==============================] - 7s 68ms/step - loss: 0.2326 - accuracy: 0.9272 - val_loss: 0.7790 - val_accuracy: 0.7939\n",
      "Epoch 16/100\n",
      "108/108 [==============================] - 7s 69ms/step - loss: 0.2460 - accuracy: 0.9222 - val_loss: 0.6706 - val_accuracy: 0.8219\n",
      "Epoch 17/100\n",
      "108/108 [==============================] - 7s 68ms/step - loss: 0.2145 - accuracy: 0.9362 - val_loss: 0.6632 - val_accuracy: 0.8184\n",
      "Epoch 18/100\n",
      "108/108 [==============================] - 8s 69ms/step - loss: 0.1865 - accuracy: 0.9406 - val_loss: 0.7160 - val_accuracy: 0.8231\n",
      "Epoch 19/100\n",
      "108/108 [==============================] - 8s 69ms/step - loss: 0.1929 - accuracy: 0.9362 - val_loss: 0.6990 - val_accuracy: 0.8207\n",
      "Epoch 20/100\n",
      "108/108 [==============================] - 6s 59ms/step - loss: 0.1851 - accuracy: 0.9415 - val_loss: 0.7186 - val_accuracy: 0.8231\n",
      "Epoch 21/100\n",
      "108/108 [==============================] - 6s 58ms/step - loss: 0.1833 - accuracy: 0.9412 - val_loss: 0.7609 - val_accuracy: 0.8149\n",
      "Epoch 22/100\n",
      "108/108 [==============================] - 6s 60ms/step - loss: 0.1744 - accuracy: 0.9423 - val_loss: 0.7055 - val_accuracy: 0.8184\n",
      "Epoch 23/100\n",
      "108/108 [==============================] - 7s 69ms/step - loss: 0.2064 - accuracy: 0.9324 - val_loss: 0.6377 - val_accuracy: 0.8347\n"
     ]
    }
   ],
   "source": [
    "from tensorflow.keras.callbacks import EarlyStopping, TensorBoard\n",
    "\n",
    "%load_ext tensorboard\n",
    "\n",
    "#rm -rf logs\n",
    "\n",
    "log_folder = 'logs2/drop02'\n",
    "callbacks = [\n",
    "            EarlyStopping(min_delta=0.001,patience = 10,restore_best_weights=True),\n",
    "            TensorBoard(log_dir=log_folder, histogram_freq=1)\n",
    "            ]\n",
    "\n",
    "\n",
    "history = model.fit(X_train,y_train,\n",
    "                    epochs=100,\n",
    "                    verbose=True,\n",
    "                    validation_data=(X_test, y_test),\n",
    "                    batch_size=32,\n",
    "                    callbacks=callbacks)"
   ]
  },
  {
   "cell_type": "markdown",
   "metadata": {},
   "source": [
    "test"
   ]
  },
  {
   "cell_type": "code",
   "execution_count": 91,
   "metadata": {},
   "outputs": [
    {
     "name": "stdout",
     "output_type": "stream",
     "text": [
      "              precision    recall  f1-score   support\n",
      "\n",
      "           0       0.97      0.78      0.86      1381\n",
      "           1       0.92      0.87      0.90      1277\n",
      "           2       0.91      0.81      0.86       617\n",
      "           3       0.85      0.78      0.81       531\n",
      "           4       0.73      0.82      0.77       318\n",
      "           5       0.69      0.77      0.73       168\n",
      "\n",
      "   micro avg       0.90      0.81      0.85      4292\n",
      "   macro avg       0.85      0.80      0.82      4292\n",
      "weighted avg       0.90      0.81      0.85      4292\n",
      " samples avg       0.81      0.81      0.81      4292\n",
      "\n"
     ]
    },
    {
     "name": "stderr",
     "output_type": "stream",
     "text": [
      "/home/florian/anaconda3/lib/python3.9/site-packages/sklearn/metrics/_classification.py:1221: UndefinedMetricWarning: Precision and F-score are ill-defined and being set to 0.0 in samples with no predicted labels. Use `zero_division` parameter to control this behavior.\n",
      "  _warn_prf(average, modifier, msg_start, len(result))\n"
     ]
    }
   ],
   "source": [
    "from sklearn.metrics import classification_report\n",
    "\n",
    "df_test = pd.read_csv(\"df_kaggle_test.csv\")\n",
    "y_t = df_test.pop(\"Emotion\")\n",
    "\n",
    "df_test['clean_text'] = hero.clean(df_test['Text'])\n",
    "df_test['clean_text_stop'] = hero.remove_stopwords(df_test['clean_text'], custom_stopwords)\n",
    "\n",
    "X_t_sequences = tokenizer.texts_to_sequences(df_test['clean_text_stop'])\n",
    "X_t_padded = pad_sequences(X_t_sequences,maxlen=max_length,padding=padding_type, truncating=truncation_type)\n",
    "\n",
    "y_t.replace([\"happy\",\"sadness\",\"anger\",\"fear\",\"love\",\"surprise\"],[0,1,2,3,4,5],inplace=True)\n",
    "dummy_y_t = np_utils.to_categorical(y_t)\n",
    "\n",
    "y_pred = model.predict(X_t_padded)\n",
    "y_pred[y_pred>=0.5]=1\n",
    "y_pred[y_pred<0.5]=0\n",
    "print(classification_report(dummy_y_t,y_pred))"
   ]
  },
  {
   "cell_type": "markdown",
   "metadata": {},
   "source": [
    "conf matrix"
   ]
  },
  {
   "cell_type": "code",
   "execution_count": 66,
   "metadata": {},
   "outputs": [],
   "source": [
    "import seaborn as sns\n",
    "import matplotlib.pyplot as plt\n",
    "from sklearn.metrics import confusion_matrix\n",
    "\n",
    "\n",
    "labels_6 = [\"happy\",\"sadness\",\"anger\",\"fear\",\"love\",\"surprise\"]\n",
    "\n",
    "\n",
    "def print_cf1(y_test, y_hat):\n",
    "    cm = confusion_matrix(y_test, y_hat)\n",
    "    sns.set(font_scale = 1.4, color_codes=True, palette=\"deep\")\n",
    "    sns.heatmap(pd.DataFrame(cm, index=labels_6,columns=[0,1,2,3,4,5]), \n",
    "                annot = True,\n",
    "                annot_kws = {\"size\":16},\n",
    "                fmt=\"d\",\n",
    "                cmap=\"YlGnBu\")\n",
    "    plt.title(\"Confusion Matrix\")\n",
    "    plt.xlabel(\"Predicted Value\")\n",
    "    plt.xticks([0,1,2,3,4,5], labels_6, rotation=45)\n",
    "    plt.ylabel(\"True Value\")\n",
    "    plt.show()\n"
   ]
  },
  {
   "cell_type": "code",
   "execution_count": 92,
   "metadata": {},
   "outputs": [
    {
     "data": {
      "image/png": "[encoded data removed]",
      "text/plain": [
       "<Figure size 432x288 with 2 Axes>"
      ]
     },
     "metadata": {},
     "output_type": "display_data"
    }
   ],
   "source": [
    "y_pred2 = [list(l).index(max(l)) for l in y_pred]\n",
    "print_cf1(y_t,y_pred2)"
   ]
  },
  {
   "cell_type": "code",
   "execution_count": 49,
   "metadata": {},
   "outputs": [
    {
     "data": {
      "text/plain": [
       "happy       1381\n",
       "sadness     1277\n",
       "anger        617\n",
       "fear         531\n",
       "love         318\n",
       "surprise     168\n",
       "Name: Emotion, dtype: int64"
      ]
     },
     "execution_count": 49,
     "metadata": {},
     "output_type": "execute_result"
    }
   ],
   "source": [
    "df_test = pd.read_csv(\"df_kaggle_test.csv\")\n",
    "df_test[\"Emotion\"].value_counts()"
   ]
  },
  {
   "cell_type": "markdown",
   "metadata": {},
   "source": [
    "# prediction"
   ]
  },
  {
   "cell_type": "code",
   "execution_count": 63,
   "metadata": {},
   "outputs": [
    {
     "data": {
      "text/plain": [
       "'happy'"
      ]
     },
     "execution_count": 63,
     "metadata": {},
     "output_type": "execute_result"
    }
   ],
   "source": [
    "phrase = pd.Series([\"I am good\"])\n",
    "phrase_clean = hero.clean(phrase)\n",
    "phrase_stop = hero.remove_stopwords(phrase_clean, custom_stopwords)\n",
    "phrase_seq = tokenizer.texts_to_sequences(phrase_stop)\n",
    "phrase_pad = pad_sequences(phrase_seq,maxlen=max_length,padding=padding_type, truncating=truncation_type)\n",
    "\n",
    "pred = model.predict(phrase_pad)\n",
    "indice = list(pred[0]).index(max(pred[0]))\n",
    "labels_6[indice]"
   ]
  },
  {
   "cell_type": "markdown",
   "metadata": {},
   "source": [
    "# avec le dataset world"
   ]
  },
  {
   "cell_type": "code",
   "execution_count": 80,
   "metadata": {},
   "outputs": [],
   "source": [
    "dfw = pd.read_csv(\"df_kaggle_dataworld_train.csv\")"
   ]
  },
  {
   "cell_type": "code",
   "execution_count": 81,
   "metadata": {},
   "outputs": [],
   "source": [
    "yw = dfw.pop(\"Emotion\")\n",
    "dfw['clean_text'] = hero.clean(dfw['Text'])\n",
    "dfw['clean_text_stop'] = hero.remove_stopwords(dfw['clean_text'], custom_stopwords)\n",
    "\n",
    "#token\n",
    "tokenizerw = Tokenizer(num_words = 35000, oov_token=oov_token)\n",
    "Xw = dfw[\"clean_text_stop\"]\n",
    "tokenizerw.fit_on_texts(Xw)\n",
    "word_indexw = tokenizerw.word_index"
   ]
  },
  {
   "cell_type": "code",
   "execution_count": 83,
   "metadata": {},
   "outputs": [
    {
     "data": {
      "text/plain": [
       "37"
      ]
     },
     "execution_count": 83,
     "metadata": {},
     "output_type": "execute_result"
    }
   ],
   "source": [
    "len(word_indexw)\n",
    "max([len(t.split()) for t in Xw])"
   ]
  },
  {
   "cell_type": "code",
   "execution_count": 87,
   "metadata": {},
   "outputs": [],
   "source": [
    "max_length=37\n",
    "X_sequencesw = tokenizer.texts_to_sequences(Xw)\n",
    "X_paddedw = pad_sequences(X_sequencesw,maxlen=max_length,padding=padding_type, truncating=truncation_type)\n"
   ]
  },
  {
   "cell_type": "code",
   "execution_count": 85,
   "metadata": {},
   "outputs": [],
   "source": [
    "# embeding matrix : les poids du modele glove pour les mots de notre texte\n",
    "embedding_matrix = np.zeros((len(word_indexw) + 1,emb_length ))\n",
    "for word, i in word_indexw.items():\n",
    "    embedding_vector = embeddings_index.get(word)\n",
    "    if embedding_vector is not None:\n",
    "        # words not found in embedding index will be all-zeros.\n",
    "        embedding_matrix[i] = embedding_vector"
   ]
  },
  {
   "cell_type": "code",
   "execution_count": 86,
   "metadata": {},
   "outputs": [],
   "source": [
    "yw.replace([\"happy\",\"sadness\",\"anger\",\"fear\",\"love\",\"surprise\"],[0,1,2,3,4,5],inplace=True)\n",
    "\n",
    "dummy_yw = np_utils.to_categorical( yw)"
   ]
  },
  {
   "cell_type": "code",
   "execution_count": 88,
   "metadata": {},
   "outputs": [],
   "source": [
    "embedding_layer = Embedding(input_dim=len(word_indexw) + 1,\n",
    "                            output_dim=emb_length,\n",
    "                            weights=[embedding_matrix],\n",
    "                            input_length=max_length,\n",
    "                            trainable=False)\n",
    "\n",
    "\n",
    "model = Sequential([\n",
    "    embedding_layer,\n",
    "    LSTM(100,dropout=0.2, recurrent_dropout=0.2,return_sequences=True),\n",
    "    LSTM(100,dropout=0.2, recurrent_dropout=0.2),\n",
    "    Dropout(0.2),\n",
    "    Dense(128, activation='relu'),\n",
    "   Dense(6, activation='softmax')\n",
    "])"
   ]
  },
  {
   "cell_type": "code",
   "execution_count": 89,
   "metadata": {},
   "outputs": [],
   "source": [
    "X_train, X_test, y_train, y_test = train_test_split(X_paddedw, dummy_yw, test_size=0.2, random_state=42)\n",
    "\n",
    "model.compile(loss='CategoricalCrossentropy',optimizer='adam',metrics=['accuracy'])"
   ]
  },
  {
   "cell_type": "code",
   "execution_count": 90,
   "metadata": {},
   "outputs": [
    {
     "name": "stdout",
     "output_type": "stream",
     "text": [
      "The tensorboard extension is already loaded. To reload it, use:\n",
      "  %reload_ext tensorboard\n",
      "Epoch 1/100\n",
      "1213/1213 [==============================] - 94s 72ms/step - loss: 1.5010 - accuracy: 0.3875 - val_loss: 1.3851 - val_accuracy: 0.4486\n",
      "Epoch 2/100\n",
      "1213/1213 [==============================] - 87s 72ms/step - loss: 1.3767 - accuracy: 0.4469 - val_loss: 1.3326 - val_accuracy: 0.4666\n",
      "Epoch 3/100\n",
      "1213/1213 [==============================] - 90s 74ms/step - loss: 1.3226 - accuracy: 0.4799 - val_loss: 1.2832 - val_accuracy: 0.5124\n",
      "Epoch 4/100\n",
      "1213/1213 [==============================] - 87s 72ms/step - loss: 1.2714 - accuracy: 0.5083 - val_loss: 1.2262 - val_accuracy: 0.5353\n",
      "Epoch 5/100\n",
      "1213/1213 [==============================] - 88s 73ms/step - loss: 1.2240 - accuracy: 0.5308 - val_loss: 1.2123 - val_accuracy: 0.5255\n",
      "Epoch 6/100\n",
      "1213/1213 [==============================] - 88s 72ms/step - loss: 1.1908 - accuracy: 0.5450 - val_loss: 1.1969 - val_accuracy: 0.5397\n",
      "Epoch 7/100\n",
      "1213/1213 [==============================] - 88s 72ms/step - loss: 1.1562 - accuracy: 0.5586 - val_loss: 1.1542 - val_accuracy: 0.5559\n",
      "Epoch 8/100\n",
      "1213/1213 [==============================] - 88s 72ms/step - loss: 1.1335 - accuracy: 0.5690 - val_loss: 1.1445 - val_accuracy: 0.5641\n",
      "Epoch 9/100\n",
      "1213/1213 [==============================] - 88s 73ms/step - loss: 1.1094 - accuracy: 0.5776 - val_loss: 1.1342 - val_accuracy: 0.5735\n",
      "Epoch 10/100\n",
      "1213/1213 [==============================] - 89s 73ms/step - loss: 1.0867 - accuracy: 0.5853 - val_loss: 1.1323 - val_accuracy: 0.5710\n",
      "Epoch 11/100\n",
      "1213/1213 [==============================] - 88s 73ms/step - loss: 1.0703 - accuracy: 0.5897 - val_loss: 1.1130 - val_accuracy: 0.5752\n",
      "Epoch 12/100\n",
      "1213/1213 [==============================] - 88s 73ms/step - loss: 1.0544 - accuracy: 0.5975 - val_loss: 1.1029 - val_accuracy: 0.5799\n",
      "Epoch 13/100\n",
      "1213/1213 [==============================] - 89s 73ms/step - loss: 1.0375 - accuracy: 0.6016 - val_loss: 1.1155 - val_accuracy: 0.5740\n",
      "Epoch 14/100\n",
      "1213/1213 [==============================] - 89s 73ms/step - loss: 1.0279 - accuracy: 0.6076 - val_loss: 1.1194 - val_accuracy: 0.5783\n",
      "Epoch 15/100\n",
      "1213/1213 [==============================] - 89s 73ms/step - loss: 1.0192 - accuracy: 0.6129 - val_loss: 1.1098 - val_accuracy: 0.5764\n",
      "Epoch 16/100\n",
      "1213/1213 [==============================] - 90s 74ms/step - loss: 1.0072 - accuracy: 0.6135 - val_loss: 1.1051 - val_accuracy: 0.5829\n",
      "Epoch 17/100\n",
      "1213/1213 [==============================] - 90s 74ms/step - loss: 0.9935 - accuracy: 0.6218 - val_loss: 1.1037 - val_accuracy: 0.5810\n",
      "Epoch 18/100\n",
      "1213/1213 [==============================] - 90s 74ms/step - loss: 0.9882 - accuracy: 0.6230 - val_loss: 1.1273 - val_accuracy: 0.5781\n",
      "Epoch 19/100\n",
      "1213/1213 [==============================] - 94s 78ms/step - loss: 0.9806 - accuracy: 0.6271 - val_loss: 1.0957 - val_accuracy: 0.5784\n",
      "Epoch 20/100\n",
      "1213/1213 [==============================] - 92s 76ms/step - loss: 0.9718 - accuracy: 0.6304 - val_loss: 1.0990 - val_accuracy: 0.5827\n",
      "Epoch 21/100\n",
      "1213/1213 [==============================] - 93s 76ms/step - loss: 0.9612 - accuracy: 0.6331 - val_loss: 1.1112 - val_accuracy: 0.5847\n",
      "Epoch 22/100\n",
      "1213/1213 [==============================] - 91s 75ms/step - loss: 0.9545 - accuracy: 0.6383 - val_loss: 1.1115 - val_accuracy: 0.5816\n",
      "Epoch 23/100\n",
      "1213/1213 [==============================] - 87s 71ms/step - loss: 0.9421 - accuracy: 0.6408 - val_loss: 1.1254 - val_accuracy: 0.5834\n",
      "Epoch 24/100\n",
      "1213/1213 [==============================] - 87s 71ms/step - loss: 0.9403 - accuracy: 0.6420 - val_loss: 1.1106 - val_accuracy: 0.5811\n",
      "Epoch 25/100\n",
      "1213/1213 [==============================] - 87s 72ms/step - loss: 0.9353 - accuracy: 0.6424 - val_loss: 1.1278 - val_accuracy: 0.5848\n",
      "Epoch 26/100\n",
      "1213/1213 [==============================] - 87s 72ms/step - loss: 0.9278 - accuracy: 0.6464 - val_loss: 1.0988 - val_accuracy: 0.5809\n",
      "Epoch 27/100\n",
      "1213/1213 [==============================] - 87s 71ms/step - loss: 0.9226 - accuracy: 0.6478 - val_loss: 1.1131 - val_accuracy: 0.5772\n",
      "Epoch 28/100\n",
      "1213/1213 [==============================] - 87s 72ms/step - loss: 0.9146 - accuracy: 0.6512 - val_loss: 1.1683 - val_accuracy: 0.5815\n",
      "Epoch 29/100\n",
      "1213/1213 [==============================] - 87s 72ms/step - loss: 0.9098 - accuracy: 0.6512 - val_loss: 1.1091 - val_accuracy: 0.5820\n"
     ]
    }
   ],
   "source": [
    "%load_ext tensorboard\n",
    "\n",
    "#rm -rf logs\n",
    "\n",
    "log_folder = 'logs_world/test1'\n",
    "callbacks = [\n",
    "            EarlyStopping(min_delta=0.001,patience = 10,restore_best_weights=True),\n",
    "            TensorBoard(log_dir=log_folder, histogram_freq=1)\n",
    "            ]\n",
    "\n",
    "\n",
    "history = model.fit(X_train,y_train,\n",
    "                    epochs=100,\n",
    "                    verbose=True,\n",
    "                    validation_data=(X_test, y_test),\n",
    "                    batch_size=32,\n",
    "                    callbacks=callbacks)"
   ]
  }
 ],
 "metadata": {
  "interpreter": {
   "hash": "c31f9a8c3aa1c3c728ca9635375839dde89f8ec10169db463330867a67196863"
  },
  "kernelspec": {
   "display_name": "Python 3.9.7 ('base')",
   "language": "python",
   "name": "python3"
  },
  "language_info": {
   "codemirror_mode": {
    "name": "ipython",
    "version": 3
   },
   "file_extension": ".py",
   "mimetype": "text/x-python",
   "name": "python",
   "nbconvert_exporter": "python",
   "pygments_lexer": "ipython3",
   "version": "3.9.7"
  },
  "orig_nbformat": 4
 },
 "nbformat": 4,
 "nbformat_minor": 2
}
