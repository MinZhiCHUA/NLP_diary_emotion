{
 "cells": [
  {
   "cell_type": "markdown",
   "id": "f675c73e",
   "metadata": {},
   "source": [
    "# Emotion Diary Project - Hugging Face"
   ]
  },
  {
   "cell_type": "markdown",
   "id": "b343588e",
   "metadata": {},
   "source": [
    "<hr>"
   ]
  },
  {
   "cell_type": "markdown",
   "id": "28afa396",
   "metadata": {},
   "source": [
    "**Imports**"
   ]
  },
  {
   "cell_type": "code",
   "execution_count": 98,
   "id": "9843848f",
   "metadata": {},
   "outputs": [],
   "source": [
    "import os\n",
    "import re\n",
    "import string\n",
    "import numpy as np\n",
    "import pandas as pd\n",
    "import matplotlib.pyplot as plt\n",
    "import seaborn as sns\n",
    "from tqdm import tqdm # Progress Bar\n",
    "import nltk\n",
    "from nltk.corpus import stopwords\n",
    "from nltk.stem.porter import PorterStemmer\n",
    "from sklearn.preprocessing import LabelEncoder\n",
    "from sklearn.feature_extraction.text import TfidfVectorizer\n",
    "from sklearn.naive_bayes import MultinomialNB\n",
    "from sklearn.pipeline import make_pipeline\n",
    "from sklearn.metrics import confusion_matrix, classification_report, accuracy_score\n",
    "import transformers\n",
    "from transformers import DistilBertTokenizer, TFDistilBertModel, DistilBertConfig\n",
    "import tensorflow as tf\n",
    "from tensorflow.keras.callbacks import ModelCheckpoint, ReduceLROnPlateau, EarlyStopping\n",
    "import warnings\n",
    "from transformers import logging as hf_logging\n",
    "hf_logging.set_verbosity_error() # Hidding Huggingface Warnings\n",
    "warnings.filterwarnings(\"ignore\")"
   ]
  },
  {
   "cell_type": "markdown",
   "id": "9ddddfb3",
   "metadata": {},
   "source": [
    "Enabling GPU"
   ]
  },
  {
   "cell_type": "code",
   "execution_count": 99,
   "id": "005c32e5",
   "metadata": {},
   "outputs": [],
   "source": [
    "gpus = tf.config.experimental.list_physical_devices('GPU')\n",
    "if gpus:\n",
    "  try:\n",
    "    # Currently, memory growth needs to be the same across GPUs\n",
    "    for gpu in gpus:\n",
    "      tf.config.experimental.set_memory_growth(gpu, True)\n",
    "    logical_gpus = tf.config.experimental.list_logical_devices('GPU')\n",
    "    print(len(gpus), \"Physical GPUs,\", len(logical_gpus), \"Logical GPUs\")\n",
    "  except RuntimeError as e:\n",
    "    # Memory growth must be set before GPUs have been initialized\n",
    "    print(e)"
   ]
  },
  {
   "cell_type": "code",
   "execution_count": 100,
   "id": "e4fed802",
   "metadata": {},
   "outputs": [],
   "source": [
    "plt.style.use('ggplot')"
   ]
  },
  {
   "cell_type": "markdown",
   "id": "83768e2d",
   "metadata": {},
   "source": [
    "**DistilBERT Model**"
   ]
  },
  {
   "cell_type": "markdown",
   "id": "4eca1f0f",
   "metadata": {},
   "source": [
    "https://huggingface.co/distilbert-base-uncased"
   ]
  },
  {
   "cell_type": "markdown",
   "id": "f4603229",
   "metadata": {},
   "source": [
    "In BERT uncased, the text has been lowercased before WordPiece tokenization step while in BERT cased, the text is same as the input text (no changes). For example, if the input is \"OpenGenus\", then it is converted to \"opengenus\" for BERT uncased while BERT cased takes in \"OpenGenus\"."
   ]
  },
  {
   "cell_type": "code",
   "execution_count": 101,
   "id": "5041aeaf",
   "metadata": {},
   "outputs": [],
   "source": [
    "MODEL_NAME = 'distilbert-base-cased'    "
   ]
  },
  {
   "cell_type": "markdown",
   "id": "accd5142",
   "metadata": {},
   "source": [
    "### Loading Data"
   ]
  },
  {
   "cell_type": "code",
   "execution_count": 102,
   "id": "a5760cc3",
   "metadata": {},
   "outputs": [
    {
     "data": {
      "text/html": [
       "<div>\n",
       "<style scoped>\n",
       "    .dataframe tbody tr th:only-of-type {\n",
       "        vertical-align: middle;\n",
       "    }\n",
       "\n",
       "    .dataframe tbody tr th {\n",
       "        vertical-align: top;\n",
       "    }\n",
       "\n",
       "    .dataframe thead th {\n",
       "        text-align: right;\n",
       "    }\n",
       "</style>\n",
       "<table border=\"1\" class=\"dataframe\">\n",
       "  <thead>\n",
       "    <tr style=\"text-align: right;\">\n",
       "      <th></th>\n",
       "      <th>Text</th>\n",
       "      <th>Emotion</th>\n",
       "    </tr>\n",
       "  </thead>\n",
       "  <tbody>\n",
       "    <tr>\n",
       "      <th>0</th>\n",
       "      <td>i didnt feel humiliated</td>\n",
       "      <td>sadness</td>\n",
       "    </tr>\n",
       "    <tr>\n",
       "      <th>1</th>\n",
       "      <td>i can go from feeling so hopeless to so damned...</td>\n",
       "      <td>sadness</td>\n",
       "    </tr>\n",
       "    <tr>\n",
       "      <th>2</th>\n",
       "      <td>im grabbing a minute to post i feel greedy wrong</td>\n",
       "      <td>anger</td>\n",
       "    </tr>\n",
       "    <tr>\n",
       "      <th>3</th>\n",
       "      <td>i am ever feeling nostalgic about the fireplac...</td>\n",
       "      <td>love</td>\n",
       "    </tr>\n",
       "    <tr>\n",
       "      <th>4</th>\n",
       "      <td>i am feeling grouchy</td>\n",
       "      <td>anger</td>\n",
       "    </tr>\n",
       "  </tbody>\n",
       "</table>\n",
       "</div>"
      ],
      "text/plain": [
       "                                                Text  Emotion\n",
       "0                            i didnt feel humiliated  sadness\n",
       "1  i can go from feeling so hopeless to so damned...  sadness\n",
       "2   im grabbing a minute to post i feel greedy wrong    anger\n",
       "3  i am ever feeling nostalgic about the fireplac...     love\n",
       "4                               i am feeling grouchy    anger"
      ]
     },
     "execution_count": 102,
     "metadata": {},
     "output_type": "execute_result"
    }
   ],
   "source": [
    "df = pd.read_csv('Emotion_final.csv', encoding = \"UTF-8\", encoding_errors='ignore')\n",
    "df.head()"
   ]
  },
  {
   "cell_type": "code",
   "execution_count": 103,
   "id": "14e21348",
   "metadata": {},
   "outputs": [],
   "source": [
    "from sklearn.model_selection import train_test_split\n",
    "\n",
    "train_df,  test_df= train_test_split(df, test_size=0.33, random_state=42)"
   ]
  },
  {
   "cell_type": "code",
   "execution_count": 104,
   "id": "c607f5ae",
   "metadata": {},
   "outputs": [
    {
     "data": {
      "text/html": [
       "<div>\n",
       "<style scoped>\n",
       "    .dataframe tbody tr th:only-of-type {\n",
       "        vertical-align: middle;\n",
       "    }\n",
       "\n",
       "    .dataframe tbody tr th {\n",
       "        vertical-align: top;\n",
       "    }\n",
       "\n",
       "    .dataframe thead th {\n",
       "        text-align: right;\n",
       "    }\n",
       "</style>\n",
       "<table border=\"1\" class=\"dataframe\">\n",
       "  <thead>\n",
       "    <tr style=\"text-align: right;\">\n",
       "      <th></th>\n",
       "      <th>Text</th>\n",
       "      <th>Emotion</th>\n",
       "    </tr>\n",
       "  </thead>\n",
       "  <tbody>\n",
       "    <tr>\n",
       "      <th>9586</th>\n",
       "      <td>i had not yet gotten married and that coupled ...</td>\n",
       "      <td>anger</td>\n",
       "    </tr>\n",
       "    <tr>\n",
       "      <th>5847</th>\n",
       "      <td>im feeling cautiously optimistic about the dir...</td>\n",
       "      <td>happy</td>\n",
       "    </tr>\n",
       "    <tr>\n",
       "      <th>1681</th>\n",
       "      <td>i felt such a resonance with your words i feel...</td>\n",
       "      <td>sadness</td>\n",
       "    </tr>\n",
       "    <tr>\n",
       "      <th>1452</th>\n",
       "      <td>i like this so much but i feel like somehow th...</td>\n",
       "      <td>happy</td>\n",
       "    </tr>\n",
       "    <tr>\n",
       "      <th>15890</th>\n",
       "      <td>i don t feel particularly passionate as i once...</td>\n",
       "      <td>happy</td>\n",
       "    </tr>\n",
       "  </tbody>\n",
       "</table>\n",
       "</div>"
      ],
      "text/plain": [
       "                                                    Text  Emotion\n",
       "9586   i had not yet gotten married and that coupled ...    anger\n",
       "5847   im feeling cautiously optimistic about the dir...    happy\n",
       "1681   i felt such a resonance with your words i feel...  sadness\n",
       "1452   i like this so much but i feel like somehow th...    happy\n",
       "15890  i don t feel particularly passionate as i once...    happy"
      ]
     },
     "execution_count": 104,
     "metadata": {},
     "output_type": "execute_result"
    }
   ],
   "source": [
    "train_df.head()"
   ]
  },
  {
   "cell_type": "code",
   "execution_count": 105,
   "id": "4613e0f9",
   "metadata": {},
   "outputs": [
    {
     "data": {
      "text/html": [
       "<div>\n",
       "<style scoped>\n",
       "    .dataframe tbody tr th:only-of-type {\n",
       "        vertical-align: middle;\n",
       "    }\n",
       "\n",
       "    .dataframe tbody tr th {\n",
       "        vertical-align: top;\n",
       "    }\n",
       "\n",
       "    .dataframe thead th {\n",
       "        text-align: right;\n",
       "    }\n",
       "</style>\n",
       "<table border=\"1\" class=\"dataframe\">\n",
       "  <thead>\n",
       "    <tr style=\"text-align: right;\">\n",
       "      <th></th>\n",
       "      <th>Text</th>\n",
       "      <th>Emotion</th>\n",
       "    </tr>\n",
       "  </thead>\n",
       "  <tbody>\n",
       "    <tr>\n",
       "      <th>20248</th>\n",
       "      <td>There was amusement in Jake 's voice , but the...</td>\n",
       "      <td>happy</td>\n",
       "    </tr>\n",
       "    <tr>\n",
       "      <th>8094</th>\n",
       "      <td>i feel it is too dangerous to invest in such m...</td>\n",
       "      <td>anger</td>\n",
       "    </tr>\n",
       "    <tr>\n",
       "      <th>2859</th>\n",
       "      <td>i feel that i should write the company and tel...</td>\n",
       "      <td>sadness</td>\n",
       "    </tr>\n",
       "    <tr>\n",
       "      <th>18953</th>\n",
       "      <td>i also feel ashamed at the hurt caused and ash...</td>\n",
       "      <td>sadness</td>\n",
       "    </tr>\n",
       "    <tr>\n",
       "      <th>3931</th>\n",
       "      <td>i just yearned for that homey feeling where yo...</td>\n",
       "      <td>love</td>\n",
       "    </tr>\n",
       "  </tbody>\n",
       "</table>\n",
       "</div>"
      ],
      "text/plain": [
       "                                                    Text  Emotion\n",
       "20248  There was amusement in Jake 's voice , but the...    happy\n",
       "8094   i feel it is too dangerous to invest in such m...    anger\n",
       "2859   i feel that i should write the company and tel...  sadness\n",
       "18953  i also feel ashamed at the hurt caused and ash...  sadness\n",
       "3931   i just yearned for that homey feeling where yo...     love"
      ]
     },
     "execution_count": 105,
     "metadata": {},
     "output_type": "execute_result"
    }
   ],
   "source": [
    "test_df.head()"
   ]
  },
  {
   "cell_type": "markdown",
   "id": "5fb48c57",
   "metadata": {},
   "source": [
    "*Dropping any duplicates or missing values*"
   ]
  },
  {
   "cell_type": "code",
   "execution_count": 106,
   "id": "e377c838",
   "metadata": {},
   "outputs": [],
   "source": [
    "train_df.drop_duplicates(inplace= True)\n",
    "test_df.drop_duplicates(inplace=True)"
   ]
  },
  {
   "cell_type": "code",
   "execution_count": 107,
   "id": "9b2466fe",
   "metadata": {},
   "outputs": [
    {
     "data": {
      "text/plain": [
       "Text       0\n",
       "Emotion    0\n",
       "dtype: int64"
      ]
     },
     "execution_count": 107,
     "metadata": {},
     "output_type": "execute_result"
    }
   ],
   "source": [
    "train_df.isna().sum()"
   ]
  },
  {
   "cell_type": "code",
   "execution_count": 108,
   "id": "94c98c97",
   "metadata": {},
   "outputs": [
    {
     "data": {
      "text/plain": [
       "Text       0\n",
       "Emotion    0\n",
       "dtype: int64"
      ]
     },
     "execution_count": 108,
     "metadata": {},
     "output_type": "execute_result"
    }
   ],
   "source": [
    "test_df.isna().sum()"
   ]
  },
  {
   "cell_type": "markdown",
   "id": "89fd2c92",
   "metadata": {},
   "source": [
    "Because a missing location is not as important as a missing tweet or sentiment, I will not remove those entires."
   ]
  },
  {
   "cell_type": "code",
   "execution_count": 109,
   "id": "69ab8375",
   "metadata": {},
   "outputs": [
    {
     "name": "stdout",
     "output_type": "stream",
     "text": [
      "There are 14375 entries in the training dataframe\n"
     ]
    },
    {
     "data": {
      "text/html": [
       "<div>\n",
       "<style scoped>\n",
       "    .dataframe tbody tr th:only-of-type {\n",
       "        vertical-align: middle;\n",
       "    }\n",
       "\n",
       "    .dataframe tbody tr th {\n",
       "        vertical-align: top;\n",
       "    }\n",
       "\n",
       "    .dataframe thead th {\n",
       "        text-align: right;\n",
       "    }\n",
       "</style>\n",
       "<table border=\"1\" class=\"dataframe\">\n",
       "  <thead>\n",
       "    <tr style=\"text-align: right;\">\n",
       "      <th></th>\n",
       "      <th>Text</th>\n",
       "      <th>Emotion</th>\n",
       "    </tr>\n",
       "  </thead>\n",
       "  <tbody>\n",
       "    <tr>\n",
       "      <th>9586</th>\n",
       "      <td>i had not yet gotten married and that coupled ...</td>\n",
       "      <td>anger</td>\n",
       "    </tr>\n",
       "    <tr>\n",
       "      <th>5847</th>\n",
       "      <td>im feeling cautiously optimistic about the dir...</td>\n",
       "      <td>happy</td>\n",
       "    </tr>\n",
       "    <tr>\n",
       "      <th>1681</th>\n",
       "      <td>i felt such a resonance with your words i feel...</td>\n",
       "      <td>sadness</td>\n",
       "    </tr>\n",
       "    <tr>\n",
       "      <th>1452</th>\n",
       "      <td>i like this so much but i feel like somehow th...</td>\n",
       "      <td>happy</td>\n",
       "    </tr>\n",
       "    <tr>\n",
       "      <th>15890</th>\n",
       "      <td>i don t feel particularly passionate as i once...</td>\n",
       "      <td>happy</td>\n",
       "    </tr>\n",
       "  </tbody>\n",
       "</table>\n",
       "</div>"
      ],
      "text/plain": [
       "                                                    Text  Emotion\n",
       "9586   i had not yet gotten married and that coupled ...    anger\n",
       "5847   im feeling cautiously optimistic about the dir...    happy\n",
       "1681   i felt such a resonance with your words i feel...  sadness\n",
       "1452   i like this so much but i feel like somehow th...    happy\n",
       "15890  i don t feel particularly passionate as i once...    happy"
      ]
     },
     "execution_count": 109,
     "metadata": {},
     "output_type": "execute_result"
    }
   ],
   "source": [
    "print(f\"There are {train_df.shape[0]} entries in the training dataframe\")\n",
    "train_df.head()"
   ]
  },
  {
   "cell_type": "code",
   "execution_count": 110,
   "id": "ca726c61",
   "metadata": {},
   "outputs": [
    {
     "name": "stdout",
     "output_type": "stream",
     "text": [
      "There are 7082 entries in the test dataframe\n"
     ]
    },
    {
     "data": {
      "text/html": [
       "<div>\n",
       "<style scoped>\n",
       "    .dataframe tbody tr th:only-of-type {\n",
       "        vertical-align: middle;\n",
       "    }\n",
       "\n",
       "    .dataframe tbody tr th {\n",
       "        vertical-align: top;\n",
       "    }\n",
       "\n",
       "    .dataframe thead th {\n",
       "        text-align: right;\n",
       "    }\n",
       "</style>\n",
       "<table border=\"1\" class=\"dataframe\">\n",
       "  <thead>\n",
       "    <tr style=\"text-align: right;\">\n",
       "      <th></th>\n",
       "      <th>Text</th>\n",
       "      <th>Emotion</th>\n",
       "    </tr>\n",
       "  </thead>\n",
       "  <tbody>\n",
       "    <tr>\n",
       "      <th>20248</th>\n",
       "      <td>There was amusement in Jake 's voice , but the...</td>\n",
       "      <td>happy</td>\n",
       "    </tr>\n",
       "    <tr>\n",
       "      <th>8094</th>\n",
       "      <td>i feel it is too dangerous to invest in such m...</td>\n",
       "      <td>anger</td>\n",
       "    </tr>\n",
       "    <tr>\n",
       "      <th>2859</th>\n",
       "      <td>i feel that i should write the company and tel...</td>\n",
       "      <td>sadness</td>\n",
       "    </tr>\n",
       "    <tr>\n",
       "      <th>18953</th>\n",
       "      <td>i also feel ashamed at the hurt caused and ash...</td>\n",
       "      <td>sadness</td>\n",
       "    </tr>\n",
       "    <tr>\n",
       "      <th>3931</th>\n",
       "      <td>i just yearned for that homey feeling where yo...</td>\n",
       "      <td>love</td>\n",
       "    </tr>\n",
       "  </tbody>\n",
       "</table>\n",
       "</div>"
      ],
      "text/plain": [
       "                                                    Text  Emotion\n",
       "20248  There was amusement in Jake 's voice , but the...    happy\n",
       "8094   i feel it is too dangerous to invest in such m...    anger\n",
       "2859   i feel that i should write the company and tel...  sadness\n",
       "18953  i also feel ashamed at the hurt caused and ash...  sadness\n",
       "3931   i just yearned for that homey feeling where yo...     love"
      ]
     },
     "execution_count": 110,
     "metadata": {},
     "output_type": "execute_result"
    }
   ],
   "source": [
    "print(f\"There are {test_df.shape[0]} entries in the test dataframe\")\n",
    "test_df.head()"
   ]
  },
  {
   "cell_type": "code",
   "execution_count": 111,
   "id": "23a3039a",
   "metadata": {
    "scrolled": false
   },
   "outputs": [
    {
     "data": {
      "image/png": "[encoded data removed]",
      "text/plain": [
       "<Figure size 720x360 with 2 Axes>"
      ]
     },
     "metadata": {},
     "output_type": "display_data"
    }
   ],
   "source": [
    "reorder = ['anger', 'fear', 'happy', 'love', 'sadness', 'surprise']\n",
    "\n",
    "fig, axes = plt.subplots(1,2 , figsize=(10,5))\n",
    "\n",
    "train_df.value_counts('Emotion').reindex(index=reorder).plot(kind='bar', ax=axes[0])\n",
    "plt.sca(axes[0])\n",
    "plt.xticks(rotation=45, horizontalalignment='right')\n",
    "plt.title('Training Dataset')\n",
    "plt.ylabel('Counts')\n",
    "\n",
    "test_df.value_counts('Emotion').reindex(index=reorder).plot(kind='bar', ax=axes[1])\n",
    "plt.sca(axes[1])\n",
    "plt.xticks(rotation=45, horizontalalignment='right')\n",
    "plt.title('Testing Dataset');"
   ]
  },
  {
   "cell_type": "markdown",
   "id": "bde60c01",
   "metadata": {},
   "source": [
    "It looks like the training and testsing datasets are not balanced across all categories."
   ]
  },
  {
   "cell_type": "code",
   "execution_count": 112,
   "id": "a992b6ce",
   "metadata": {},
   "outputs": [
    {
     "name": "stdout",
     "output_type": "stream",
     "text": [
      "The max word count is 66\n"
     ]
    }
   ],
   "source": [
    "max_words = []\n",
    "for row in train_df['Text']:\n",
    "    max_words.append(len(row.split()))\n",
    "print(f\"The max word count is {np.asarray(max_words).max()}\")"
   ]
  },
  {
   "cell_type": "markdown",
   "id": "f30183b8",
   "metadata": {},
   "source": [
    "**Getting rid of the URL's in the tweets**"
   ]
  },
  {
   "cell_type": "code",
   "execution_count": 113,
   "id": "698fb0e8",
   "metadata": {},
   "outputs": [
    {
     "name": "stdout",
     "output_type": "stream",
     "text": [
      "i didnt feel humiliated\n"
     ]
    },
    {
     "data": {
      "text/plain": [
       "'i didnt feel humiliated'"
      ]
     },
     "execution_count": 113,
     "metadata": {},
     "output_type": "execute_result"
    }
   ],
   "source": [
    "test_str = test_df['Text'][0]\n",
    "print(test_str)\n",
    "\n",
    "def remove_https(row):\n",
    "    return re.sub(r'http\\S+', '', row)\n",
    "\n",
    "remove_https(test_str)"
   ]
  },
  {
   "cell_type": "markdown",
   "id": "9eeeeee0",
   "metadata": {},
   "source": [
    "*Apply to whole datasets*"
   ]
  },
  {
   "cell_type": "code",
   "execution_count": 114,
   "id": "caee95cf",
   "metadata": {},
   "outputs": [],
   "source": [
    "train_df['Text_no_URL'] = train_df['Text'].apply(remove_https)\n",
    "test_df['Text_no_URL'] = test_df['Text'].apply(remove_https)"
   ]
  },
  {
   "cell_type": "markdown",
   "id": "75dd90a5",
   "metadata": {},
   "source": [
    "**Label Encode the datasets**"
   ]
  },
  {
   "cell_type": "code",
   "execution_count": 115,
   "id": "bf5dd59a",
   "metadata": {},
   "outputs": [],
   "source": [
    "le = LabelEncoder()\n",
    "train_df['Sentiment_label'] = le.fit_transform(train_df['Emotion'])\n",
    "test_df['Sentiment_label'] = le.transform(test_df['Emotion'])"
   ]
  },
  {
   "cell_type": "code",
   "execution_count": 116,
   "id": "ec046f31",
   "metadata": {},
   "outputs": [
    {
     "name": "stdout",
     "output_type": "stream",
     "text": [
      "0 anger\n",
      "1 fear\n",
      "2 happy\n",
      "3 love\n",
      "4 sadness\n",
      "5 surprise\n"
     ]
    }
   ],
   "source": [
    "label_dict = (test_df[['Emotion','Sentiment_label']].drop_duplicates()\n",
    "              .sort_values(by='Sentiment_label')\n",
    "              .reset_index(drop=True)['Emotion']\n",
    "              .to_dict())\n",
    "\n",
    "for index, key in label_dict.items():\n",
    "    print(index, key)"
   ]
  },
  {
   "cell_type": "markdown",
   "id": "ef219fca",
   "metadata": {},
   "source": [
    "**Splitting the data**"
   ]
  },
  {
   "cell_type": "markdown",
   "id": "9733cae1",
   "metadata": {},
   "source": [
    "I will take 20% of the training data as validation data"
   ]
  },
  {
   "cell_type": "code",
   "execution_count": 117,
   "id": "f7e8393b",
   "metadata": {},
   "outputs": [
    {
     "name": "stdout",
     "output_type": "stream",
     "text": [
      "11500 training examples\n",
      "2875 validation examples\n"
     ]
    }
   ],
   "source": [
    "# Get the number training samples\n",
    "num_train_samples = int(train_df.shape[0] * 0.8)\n",
    "\n",
    "x_train = train_df['Text_no_URL'][:num_train_samples]\n",
    "y_train = train_df['Sentiment_label'][:num_train_samples]\n",
    "x_val = train_df['Text_no_URL'][num_train_samples:]\n",
    "y_val = train_df['Sentiment_label'][num_train_samples:]\n",
    "\n",
    "### Sanity Check\n",
    "assert(len(x_train) + len(x_val) == train_df.shape[0])\n",
    "\n",
    "print(f\"{len(x_train)} training examples\\n{len(x_val)} validation examples\")"
   ]
  },
  {
   "cell_type": "code",
   "execution_count": 145,
   "id": "90e34206",
   "metadata": {},
   "outputs": [
    {
     "data": {
      "text/plain": [
       "9586     0\n",
       "5847     2\n",
       "1681     4\n",
       "1452     2\n",
       "15890    2\n",
       "        ..\n",
       "6990     2\n",
       "19559    4\n",
       "17858    0\n",
       "1823     0\n",
       "10081    2\n",
       "Name: Sentiment_label, Length: 11500, dtype: int32"
      ]
     },
     "execution_count": 145,
     "metadata": {},
     "output_type": "execute_result"
    }
   ],
   "source": [
    "y_train"
   ]
  },
  {
   "cell_type": "code",
   "execution_count": 118,
   "id": "7c0fcac9",
   "metadata": {},
   "outputs": [
    {
     "name": "stdout",
     "output_type": "stream",
     "text": [
      "7082 testing examples\n"
     ]
    }
   ],
   "source": [
    "x_test = test_df['Text_no_URL']\n",
    "y_test = test_df['Sentiment_label']\n",
    "print(f\"{len(x_test)} testing examples\")"
   ]
  },
  {
   "cell_type": "markdown",
   "id": "7ff4bdd7",
   "metadata": {},
   "source": [
    "## DistilBERT"
   ]
  },
  {
   "cell_type": "markdown",
   "id": "0b7a46a8",
   "metadata": {},
   "source": [
    "**Tokenize the Inputs** "
   ]
  },
  {
   "cell_type": "code",
   "execution_count": 124,
   "id": "2d0069b4",
   "metadata": {},
   "outputs": [],
   "source": [
    "tokenizer = DistilBertTokenizer.from_pretrained(MODEL_NAME) # Loading the tokenizer"
   ]
  },
  {
   "cell_type": "markdown",
   "id": "c9b90015",
   "metadata": {},
   "source": [
    "*Finding the max token sequence in the training set*"
   ]
  },
  {
   "cell_type": "code",
   "execution_count": 125,
   "id": "7a7011c7",
   "metadata": {},
   "outputs": [
    {
     "name": "stdout",
     "output_type": "stream",
     "text": [
      "The maximum amount of tokens in the dataset is 92\n"
     ]
    }
   ],
   "source": [
    "max_val = 0\n",
    "for sent in (x_train.tolist() + x_train.tolist() + x_val.tolist()):\n",
    "    try:\n",
    "        sent_tok_len = len(tokenizer.tokenize(sent))\n",
    "        max_val = sent_tok_len if (sent_tok_len > max_val) else max_val\n",
    "    except:\n",
    "        pass\n",
    "    \n",
    "print(f\"The maximum amount of tokens in the dataset is {max_val}\")"
   ]
  },
  {
   "cell_type": "markdown",
   "id": "8b662020",
   "metadata": {},
   "source": [
    "I will set the max length and input for the deep learning model to 100  \n"
   ]
  },
  {
   "cell_type": "code",
   "execution_count": 134,
   "id": "b1df84af",
   "metadata": {},
   "outputs": [],
   "source": [
    "MAX_LENGTH = 100\n",
    "\n",
    "tokenizer = DistilBertTokenizer.from_pretrained(MODEL_NAME,  \n",
    "                                                add_special_tokens=True,\n",
    "                                                max_length=MAX_LENGTH, \n",
    "                                                pad_to_max_length=True)\n",
    "\n",
    "def tokenize(sentences, tokenizer):\n",
    "    input_ids, input_masks, input_segments = [], [], []\n",
    "    for sentence in tqdm(sentences):\n",
    "        inputs = tokenizer.encode_plus(sentence, \n",
    "                                       add_special_tokens=True, \n",
    "                                       max_length=MAX_LENGTH, \n",
    "                                       pad_to_max_length=True, \n",
    "                                       return_attention_mask=True, \n",
    "                                       return_token_type_ids=True, \n",
    "                                       truncation=True)\n",
    "        input_ids.append(inputs['input_ids'])\n",
    "        input_masks.append(inputs['attention_mask'])\n",
    "        input_segments.append(inputs['token_type_ids'])        \n",
    "        \n",
    "    return np.asarray(input_ids, dtype='int32'), np.asarray(input_masks, dtype='int32')"
   ]
  },
  {
   "cell_type": "code",
   "execution_count": 135,
   "id": "29156f79",
   "metadata": {},
   "outputs": [
    {
     "name": "stderr",
     "output_type": "stream",
     "text": [
      "100%|██████████| 11500/11500 [00:06<00:00, 1687.25it/s]\n",
      "100%|██████████| 7082/7082 [00:04<00:00, 1695.40it/s]\n",
      "100%|██████████| 2875/2875 [00:01<00:00, 1658.05it/s]\n"
     ]
    }
   ],
   "source": [
    "X_train = tokenize(x_train, tokenizer)\n",
    "X_test = tokenize(x_test, tokenizer)\n",
    "X_val = tokenize(x_val, tokenizer)"
   ]
  },
  {
   "cell_type": "markdown",
   "id": "9f9676c1",
   "metadata": {},
   "source": [
    "**Looking at entry**"
   ]
  },
  {
   "cell_type": "code",
   "execution_count": 136,
   "id": "5ebc6ca8",
   "metadata": {},
   "outputs": [
    {
     "data": {
      "text/html": [
       "<div>\n",
       "<style scoped>\n",
       "    .dataframe tbody tr th:only-of-type {\n",
       "        vertical-align: middle;\n",
       "    }\n",
       "\n",
       "    .dataframe tbody tr th {\n",
       "        vertical-align: top;\n",
       "    }\n",
       "\n",
       "    .dataframe thead th {\n",
       "        text-align: right;\n",
       "    }\n",
       "</style>\n",
       "<table border=\"1\" class=\"dataframe\">\n",
       "  <thead>\n",
       "    <tr style=\"text-align: right;\">\n",
       "      <th></th>\n",
       "      <th>Text</th>\n",
       "      <th>Emotion</th>\n",
       "      <th>Text_no_URL</th>\n",
       "      <th>Sentiment_label</th>\n",
       "    </tr>\n",
       "  </thead>\n",
       "  <tbody>\n",
       "    <tr>\n",
       "      <th>9586</th>\n",
       "      <td>i had not yet gotten married and that coupled ...</td>\n",
       "      <td>anger</td>\n",
       "      <td>i had not yet gotten married and that coupled ...</td>\n",
       "      <td>0</td>\n",
       "    </tr>\n",
       "    <tr>\n",
       "      <th>5847</th>\n",
       "      <td>im feeling cautiously optimistic about the dir...</td>\n",
       "      <td>happy</td>\n",
       "      <td>im feeling cautiously optimistic about the dir...</td>\n",
       "      <td>2</td>\n",
       "    </tr>\n",
       "    <tr>\n",
       "      <th>1681</th>\n",
       "      <td>i felt such a resonance with your words i feel...</td>\n",
       "      <td>sadness</td>\n",
       "      <td>i felt such a resonance with your words i feel...</td>\n",
       "      <td>4</td>\n",
       "    </tr>\n",
       "    <tr>\n",
       "      <th>1452</th>\n",
       "      <td>i like this so much but i feel like somehow th...</td>\n",
       "      <td>happy</td>\n",
       "      <td>i like this so much but i feel like somehow th...</td>\n",
       "      <td>2</td>\n",
       "    </tr>\n",
       "    <tr>\n",
       "      <th>15890</th>\n",
       "      <td>i don t feel particularly passionate as i once...</td>\n",
       "      <td>happy</td>\n",
       "      <td>i don t feel particularly passionate as i once...</td>\n",
       "      <td>2</td>\n",
       "    </tr>\n",
       "  </tbody>\n",
       "</table>\n",
       "</div>"
      ],
      "text/plain": [
       "                                                    Text  Emotion  \\\n",
       "9586   i had not yet gotten married and that coupled ...    anger   \n",
       "5847   im feeling cautiously optimistic about the dir...    happy   \n",
       "1681   i felt such a resonance with your words i feel...  sadness   \n",
       "1452   i like this so much but i feel like somehow th...    happy   \n",
       "15890  i don t feel particularly passionate as i once...    happy   \n",
       "\n",
       "                                             Text_no_URL  Sentiment_label  \n",
       "9586   i had not yet gotten married and that coupled ...                0  \n",
       "5847   im feeling cautiously optimistic about the dir...                2  \n",
       "1681   i felt such a resonance with your words i feel...                4  \n",
       "1452   i like this so much but i feel like somehow th...                2  \n",
       "15890  i don t feel particularly passionate as i once...                2  "
      ]
     },
     "execution_count": 136,
     "metadata": {},
     "output_type": "execute_result"
    }
   ],
   "source": [
    "train_df.head()"
   ]
  },
  {
   "cell_type": "code",
   "execution_count": 137,
   "id": "317d701c",
   "metadata": {
    "scrolled": false
   },
   "outputs": [
    {
     "name": "stdout",
     "output_type": "stream",
     "text": [
      "anger \n",
      "\n",
      "im grabbing a minute to post i feel greedy wrong \n",
      "\n",
      "ID's\tInput Tokens\n",
      "101\t[CLS]\n",
      "13280\tim\n",
      "10810\tgrabbing\n",
      "170\ta\n",
      "2517\tminute\n",
      "1106\tto\n",
      "2112\tpost\n",
      "178\ti\n",
      "1631\tfeel\n",
      "24007\tgreedy\n",
      "2488\twrong\n",
      "102\t[SEP]\n"
     ]
    }
   ],
   "source": [
    "index_num = 2\n",
    "\n",
    "print(train_df.loc[index_num]['Emotion'], '\\n')\n",
    "\n",
    "print(x_train[index_num], '\\n')\n",
    "\n",
    "temp_tokens = tokenizer.tokenize(x_train[index_num])\n",
    "temp_ids = tokenizer.encode(x_train[index_num])\n",
    "\n",
    "print('ID\\'s', 'Input Tokens', sep='\\t')\n",
    "for i in range(len(temp_ids)):\n",
    "    if i == 0:\n",
    "        print(temp_ids[i], '[CLS]', sep='\\t')\n",
    "        continue\n",
    "    if i == len(temp_ids)-1:\n",
    "        print(temp_ids[i], '[SEP]', sep='\\t')\n",
    "        break\n",
    "    print(temp_ids[i], temp_tokens[i-1], sep='\\t')"
   ]
  },
  {
   "cell_type": "markdown",
   "id": "ff836804",
   "metadata": {},
   "source": [
    "### Creating the model"
   ]
  },
  {
   "cell_type": "code",
   "execution_count": 139,
   "id": "e14727c9",
   "metadata": {},
   "outputs": [],
   "source": [
    "config = DistilBertConfig.from_pretrained(MODEL_NAME, output_hidden_states=True, output_attentions=True, n_layers = 2)\n",
    "DistilBERT = TFDistilBertModel.from_pretrained(MODEL_NAME, config=config)\n",
    "\n"
   ]
  },
  {
   "cell_type": "code",
   "execution_count": 140,
   "id": "e59b8168",
   "metadata": {},
   "outputs": [
    {
     "name": "stdout",
     "output_type": "stream",
     "text": [
      "Model: \"model\"\n",
      "__________________________________________________________________________________________________\n",
      " Layer (type)                   Output Shape         Param #     Connected to                     \n",
      "==================================================================================================\n",
      " input_token (InputLayer)       [(None, 100)]        0           []                               \n",
      "                                                                                                  \n",
      " masked_token (InputLayer)      [(None, 100)]        0           []                               \n",
      "                                                                                                  \n",
      " tf_distil_bert_model_12 (TFDis  TFBaseModelOutput(l  36839424   ['input_token[0][0]',            \n",
      " tilBertModel)                  ast_hidden_state=(N               'masked_token[0][0]']           \n",
      "                                one, 100, 768),                                                   \n",
      "                                 hidden_states=((No                                               \n",
      "                                ne, 100, 768),                                                    \n",
      "                                 (None, 100, 768),                                                \n",
      "                                 (None, 100, 768)),                                               \n",
      "                                 attentions=((None,                                               \n",
      "                                 12, None, 100),                                                  \n",
      "                                 (None, 12, None, 1                                               \n",
      "                                00)))                                                             \n",
      "                                                                                                  \n",
      " bidirectional (Bidirectional)  (None, 100, 256)     918528      ['tf_distil_bert_model_12[0][5]']\n",
      "                                                                                                  \n",
      " global_max_pooling1d (GlobalMa  (None, 256)         0           ['bidirectional[0][0]']          \n",
      " xPooling1D)                                                                                      \n",
      "                                                                                                  \n",
      " dense (Dense)                  (None, 64)           16448       ['global_max_pooling1d[0][0]']   \n",
      "                                                                                                  \n",
      " dropout_136 (Dropout)          (None, 64)           0           ['dense[0][0]']                  \n",
      "                                                                                                  \n",
      " dense_1 (Dense)                (None, 6)            390         ['dropout_136[0][0]']            \n",
      "                                                                                                  \n",
      "==================================================================================================\n",
      "Total params: 37,774,790\n",
      "Trainable params: 935,366\n",
      "Non-trainable params: 36,839,424\n",
      "__________________________________________________________________________________________________\n"
     ]
    }
   ],
   "source": [
    "input_ids_in = tf.keras.layers.Input(shape=(MAX_LENGTH,), name='input_token', dtype='int32')\n",
    "input_masks_in = tf.keras.layers.Input(shape=(MAX_LENGTH,), name='masked_token', dtype='int32') \n",
    "\n",
    "embedding_layer = DistilBERT(input_ids = input_ids_in, attention_mask = input_masks_in)[0]\n",
    "X = tf.keras.layers.Bidirectional(tf.keras.layers.LSTM(128, return_sequences=True))(embedding_layer)\n",
    "X = tf.keras.layers.GlobalMaxPool1D()(X)\n",
    "X = tf.keras.layers.Dense(64, activation='relu')(X)\n",
    "X = tf.keras.layers.Dropout(0.2)(X)\n",
    "X = tf.keras.layers.Dense(6, activation='softmax')(X) # MZ: change to 6 classes\n",
    "\n",
    "model = tf.keras.Model(inputs=[input_ids_in, input_masks_in], outputs = X)\n",
    "\n",
    "for layer in model.layers[:3]:\n",
    "    layer.trainable = False\n",
    "\n",
    "model.summary()"
   ]
  },
  {
   "cell_type": "markdown",
   "id": "1ec73dae",
   "metadata": {},
   "source": [
    "*Creating a output directory to store the models weights*"
   ]
  },
  {
   "cell_type": "code",
   "execution_count": 141,
   "id": "31c8f760",
   "metadata": {},
   "outputs": [],
   "source": [
    "### Create an output directory\n",
    "output_dir = './model1_outputs'\n",
    "if not os.path.exists(output_dir): ### If the file directory doesn't already exists,\n",
    "    os.makedirs(output_dir) ### Make it please"
   ]
  },
  {
   "cell_type": "markdown",
   "id": "f202c582",
   "metadata": {},
   "source": [
    "*Callbacks*"
   ]
  },
  {
   "cell_type": "code",
   "execution_count": 142,
   "id": "69f6bb9b",
   "metadata": {},
   "outputs": [],
   "source": [
    "model_checkpoint = ModelCheckpoint(filepath=output_dir+'/weights.{epoch:02d}.hdf5',\n",
    "                                  save_weights_only=True)\n",
    "\n",
    "early_stopping = EarlyStopping(patience=3, # Stop after 3 epochs of no improvement\n",
    "                               monitor='val_loss', # Look at validation_loss\n",
    "                               min_delta=0, # After 0 change\n",
    "                               mode='min', # Stop when quantity has stopped decreasing\n",
    "                               restore_best_weights=False, # Don't Restore the best weights\n",
    "                               verbose=1) \n",
    "\n",
    "reduce_lr = ReduceLROnPlateau(monitor='val_loss', # Look at validation loss\n",
    "                              min_lr=0.000001, # Lower bound of learning rate\n",
    "                              patience=1, # Reduce after 1 with little change\n",
    "                              mode='min', # Stop when quantity has stopped decreasing\n",
    "                              factor=0.1, # Reduce by a factor of 1/10\n",
    "                              min_delta=0.01, # Minimumn change needed\n",
    "                              verbose=1)"
   ]
  },
  {
   "cell_type": "markdown",
   "id": "7d65a407",
   "metadata": {},
   "source": [
    "**Compile and train**"
   ]
  },
  {
   "cell_type": "code",
   "execution_count": 143,
   "id": "e77ca5c3",
   "metadata": {},
   "outputs": [],
   "source": [
    "import tensorflow_addons as tfa"
   ]
  },
  {
   "cell_type": "code",
   "execution_count": 148,
   "id": "aa02f04f",
   "metadata": {},
   "outputs": [
    {
     "name": "stdout",
     "output_type": "stream",
     "text": [
      "Epoch 1/10\n",
      "719/719 [==============================] - 491s 676ms/step - loss: 0.9216 - accuracy: 0.6610 - val_loss: 0.4085 - val_accuracy: 0.8435 - lr: 0.0010\n",
      "Epoch 2/10\n",
      "719/719 [==============================] - 472s 656ms/step - loss: 0.2873 - accuracy: 0.8970 - val_loss: 0.2445 - val_accuracy: 0.9075 - lr: 0.0010\n",
      "Epoch 3/10\n",
      "719/719 [==============================] - ETA: 0s - loss: 0.1862 - accuracy: 0.9290\n",
      "Epoch 3: ReduceLROnPlateau reducing learning rate to 0.00010000000474974513.\n",
      "719/719 [==============================] - 462s 643ms/step - loss: 0.1862 - accuracy: 0.9290 - val_loss: 0.2425 - val_accuracy: 0.9054 - lr: 0.0010\n",
      "Epoch 4/10\n",
      "719/719 [==============================] - 457s 636ms/step - loss: 0.1028 - accuracy: 0.9634 - val_loss: 0.1971 - val_accuracy: 0.9200 - lr: 1.0000e-04\n",
      "Epoch 5/10\n",
      "719/719 [==============================] - ETA: 0s - loss: 0.0855 - accuracy: 0.9690\n",
      "Epoch 5: ReduceLROnPlateau reducing learning rate to 1.0000000474974514e-05.\n",
      "719/719 [==============================] - 484s 673ms/step - loss: 0.0855 - accuracy: 0.9690 - val_loss: 0.1925 - val_accuracy: 0.9214 - lr: 1.0000e-04\n",
      "Epoch 6/10\n",
      "719/719 [==============================] - ETA: 0s - loss: 0.0715 - accuracy: 0.9757\n",
      "Epoch 6: ReduceLROnPlateau reducing learning rate to 1.0000000656873453e-06.\n",
      "719/719 [==============================] - 486s 675ms/step - loss: 0.0715 - accuracy: 0.9757 - val_loss: 0.1929 - val_accuracy: 0.9221 - lr: 1.0000e-05\n",
      "Epoch 7/10\n",
      "719/719 [==============================] - ETA: 0s - loss: 0.0737 - accuracy: 0.9752\n",
      "Epoch 7: ReduceLROnPlateau reducing learning rate to 1e-06.\n",
      "719/719 [==============================] - 469s 653ms/step - loss: 0.0737 - accuracy: 0.9752 - val_loss: 0.1928 - val_accuracy: 0.9221 - lr: 1.0000e-06\n",
      "Epoch 8/10\n",
      "719/719 [==============================] - 460s 640ms/step - loss: 0.0698 - accuracy: 0.9756 - val_loss: 0.1928 - val_accuracy: 0.9221 - lr: 1.0000e-06\n",
      "Epoch 8: early stopping\n"
     ]
    }
   ],
   "source": [
    "model.compile(loss='sparse_categorical_crossentropy', optimizer='adam', metrics=['accuracy'])\n",
    "\n",
    "history = model.fit(X_train, \n",
    "                    y_train, \n",
    "                    epochs = 10,\n",
    "                    batch_size=16, \n",
    "                    validation_data=(X_val, y_val), \n",
    "                    callbacks=[model_checkpoint, early_stopping, reduce_lr])"
   ]
  },
  {
   "cell_type": "markdown",
   "id": "124050cd",
   "metadata": {},
   "source": [
    "Plotting the training accuracy and loss"
   ]
  },
  {
   "cell_type": "code",
   "execution_count": 149,
   "id": "e44380fc",
   "metadata": {},
   "outputs": [
    {
     "name": "stdout",
     "output_type": "stream",
     "text": [
      "Lowest Validation Loss: epoch 5\n",
      "Highest Validation Accuracy: epoch 6\n"
     ]
    },
    {
     "data": {
      "image/png": "[encoded data removed]",
      "text/plain": [
       "<Figure size 864x360 with 2 Axes>"
      ]
     },
     "metadata": {},
     "output_type": "display_data"
    }
   ],
   "source": [
    "def plot_history(history):\n",
    "    acc = history.history['accuracy']\n",
    "    val_acc = history.history['val_accuracy']\n",
    "    loss = history.history['loss']\n",
    "    val_loss = history.history['val_loss']\n",
    "    x = range(1, len(acc) + 1)\n",
    "\n",
    "    plt.figure(figsize=(12, 5))\n",
    "    plt.subplot(1, 2, 1)\n",
    "    plt.plot(x, acc, 'b', label='Training acc')\n",
    "    plt.plot(x, val_acc, 'r', label='Validation acc')\n",
    "    plt.title('Training and validation accuracy')\n",
    "    plt.legend()\n",
    "    plt.subplot(1, 2, 2)\n",
    "    plt.plot(x, loss, 'b', label='Training loss')\n",
    "    plt.plot(x, val_loss, 'r', label='Validation loss')\n",
    "    plt.title('Training and validation loss')\n",
    "    plt.legend()\n",
    "    print(\"Lowest Validation Loss: epoch {}\".format(np.argmin(val_loss)+1))\n",
    "    print(\"Highest Validation Accuracy: epoch {}\".format(np.argmax(val_acc)+1))\n",
    "\n",
    "plot_history(history)"
   ]
  },
  {
   "cell_type": "markdown",
   "id": "68d81661",
   "metadata": {},
   "source": [
    "Loading the model with the best validation accuracy"
   ]
  },
  {
   "cell_type": "code",
   "execution_count": 150,
   "id": "3e5f9e2c",
   "metadata": {},
   "outputs": [],
   "source": [
    "def get_min_val_loss_epoch(history):\n",
    "    return \"0\"+str(np.argmin(history.history['val_loss'])+1)\n",
    "\n",
    "def get_max_val_acc_epoch(history):\n",
    "    return \"0\"+str(np.argmax(history.history['val_accuracy'])+1)"
   ]
  },
  {
   "cell_type": "code",
   "execution_count": 151,
   "id": "bb45c79f",
   "metadata": {},
   "outputs": [],
   "source": [
    "epoch_num = get_max_val_acc_epoch(history)\n",
    "model.load_weights(output_dir+\"/weights.\"+epoch_num+\".hdf5\") # Load in model weights"
   ]
  },
  {
   "cell_type": "markdown",
   "id": "8ad1f61c",
   "metadata": {},
   "source": [
    "**Making inference on the test data**"
   ]
  },
  {
   "cell_type": "code",
   "execution_count": 152,
   "id": "aaf8917e",
   "metadata": {},
   "outputs": [],
   "source": [
    "y_test_probs = model.predict(X_test)\n",
    "\n",
    "# Turn probabilities into an interger prediction\n",
    "y_hat = []\n",
    "for prob in y_test_probs:\n",
    "    y_hat.append(np.argmax(prob))"
   ]
  },
  {
   "cell_type": "markdown",
   "id": "d51c6ea7",
   "metadata": {},
   "source": [
    "**Results**"
   ]
  },
  {
   "cell_type": "code",
   "execution_count": 153,
   "id": "e79eeca9",
   "metadata": {},
   "outputs": [
    {
     "name": "stdout",
     "output_type": "stream",
     "text": [
      "Accuracy: 0.9207850889579214\n"
     ]
    },
    {
     "data": {
      "image/png": "[encoded data removed]",
      "text/plain": [
       "<Figure size 432x288 with 2 Axes>"
      ]
     },
     "metadata": {},
     "output_type": "display_data"
    }
   ],
   "source": [
    "print(\"Accuracy:\", accuracy_score(y_test, y_hat))\n",
    "print_cf1(y_test, y_hat)"
   ]
  },
  {
   "cell_type": "code",
   "execution_count": 155,
   "id": "dd8c05b6",
   "metadata": {},
   "outputs": [
    {
     "name": "stdout",
     "output_type": "stream",
     "text": [
      "Hugging face: distilbert-base-cased\n",
      "accuracy 0.9207850889579214\n",
      "              precision    recall  f1-score   support\n",
      "\n",
      "       anger       0.93      0.90      0.91       993\n",
      "        fear       0.88      0.88      0.88       871\n",
      "       happy       0.94      0.95      0.94      2279\n",
      "        love       0.85      0.84      0.84       550\n",
      "     sadness       0.95      0.95      0.95      2110\n",
      "    surprise       0.81      0.81      0.81       279\n",
      "\n",
      "    accuracy                           0.92      7082\n",
      "   macro avg       0.89      0.89      0.89      7082\n",
      "weighted avg       0.92      0.92      0.92      7082\n",
      "\n"
     ]
    }
   ],
   "source": [
    "print('Hugging face: distilbert-base-cased')\n",
    "print('accuracy %s' % accuracy_score(y_hat, y_test))\n",
    "print(classification_report(y_test, y_hat, target_names=labels_6))"
   ]
  }
 ],
 "metadata": {
  "interpreter": {
   "hash": "39a3b483d072e73849c88679bfd1b45cf41eca7f3b089972c398c50435d02533"
  },
  "kernelspec": {
   "display_name": "Python 3.10.0 ('myenv_02')",
   "language": "python",
   "name": "python3"
  },
  "language_info": {
   "codemirror_mode": {
    "name": "ipython",
    "version": 3
   },
   "file_extension": ".py",
   "mimetype": "text/x-python",
   "name": "python",
   "nbconvert_exporter": "python",
   "pygments_lexer": "ipython3",
   "version": "3.10.0"
  }
 },
 "nbformat": 4,
 "nbformat_minor": 5
}
